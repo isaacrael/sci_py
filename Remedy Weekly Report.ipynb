{
 "cells": [
  {
   "cell_type": "markdown",
   "metadata": {},
   "source": [
    "### Weekly Remedy Report"
   ]
  },
  {
   "cell_type": "markdown",
   "metadata": {},
   "source": [
    "\"\"\"\n",
    "\n",
    "Copy excel spreadsheet to remedy_reports directory\n",
    "document procedure needed to complete manual weekly report here.\n",
    "\n",
    "Login to askit.lanl.gov\n",
    "On left side go to Applications -> Incident Management -> Incident Management Console ->\n",
    "Reports -> All Reports Created By Me -> NIE CDS All Open Tickets \n",
    "\n",
    "\n",
    "\n",
    "\n",
    "Create new Excel spreadsheet with this information and name it Wednesday Date - Remedy Weekly Report\n",
    "Use bitwise xterm application to upload to /home/isaac/.virtualenvs/sci_py/Developments/sci_py/remedy_reports/weekly_reports\n",
    "\n",
    "\n",
    "\n",
    "Code process below\n",
    "\n",
    "\n",
    "\"\"\""
   ]
  },
  {
   "cell_type": "markdown",
   "metadata": {},
   "source": [
    "[Pandas Pivot Table](http://pbpython.com/pandas-pivot-table-explained.html)"
   ]
  },
  {
   "cell_type": "markdown",
   "metadata": {},
   "source": [
    "[Pivot Tables In Pandas](http://chrisalbon.com/python/pandas_pivot_tables.html)"
   ]
  },
  {
   "cell_type": "code",
   "execution_count": 56,
   "metadata": {
    "collapsed": false
   },
   "outputs": [
    {
     "data": {
      "text/plain": [
       "<bound method Index.value_counts of Index([u'Incident ID*+', u'Summary*', u'Assigned Group*+', u'Assignee+',\n",
       "       u'Status*', u'Reported Date+', u'Last Modified By',\n",
       "       u'Last Modified Date', u'First Name+', u'Last Name+', u'Owner Group+',\n",
       "       u'SLM Real Time Status', u'Priority*'],\n",
       "      dtype='object')>"
      ]
     },
     "execution_count": 56,
     "metadata": {},
     "output_type": "execute_result"
    }
   ],
   "source": [
    "import pandas as pd\n",
    "from pandas import pivot_table\n",
    "import matplotlib as plt\n",
    "import numpy as np\n",
    "import numpy\n",
    "\n",
    "\n",
    "# read in excel weekly report file\n",
    "\n",
    "df = pd.read_excel(\"remedy_reports/weekly_reports/3_6_17_weekly_report.xls\")\n",
    "\n",
    "# display first five rows\n",
    "\n",
    "df.head()\n",
    "\n",
    "#help(pd.pivot_table)\n",
    "\n",
    "# rename Sheet 1 to Original Data\n",
    "\n",
    "#df.to_excel(\"remedy_reports/weekly_reports/3_6_17_weekly_report.xls\", sheet_name='Original Data')\n",
    "\n",
    "# display the last five rows\n",
    "\n",
    "#df.tail()\n",
    "\n",
    "# create a pivot table\n",
    "\n",
    "#pd.pivot_table(df,values=['None'],columns=['Assignee'])\n",
    "\n",
    "\n",
    "#pd.pivot_table(df, values=None, index=None, columns='Assignee+', aggfunc='mean', fill_value=None, margins=False, dropna=True, margins_name='All')\n",
    "\n",
    "\n",
    "#df.head()\n",
    "\n",
    "df.columns.value_counts\n",
    "\n",
    "\n",
    "\n",
    "\n",
    "\n",
    "\n",
    "\n"
   ]
  }
 ],
 "metadata": {
  "kernelspec": {
   "display_name": "Python 2",
   "language": "python",
   "name": "python2"
  },
  "language_info": {
   "codemirror_mode": {
    "name": "ipython",
    "version": 2
   },
   "file_extension": ".py",
   "mimetype": "text/x-python",
   "name": "python",
   "nbconvert_exporter": "python",
   "pygments_lexer": "ipython2",
   "version": "2.7.5"
  }
 },
 "nbformat": 4,
 "nbformat_minor": 2
}
