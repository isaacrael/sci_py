{
 "cells": [
  {
   "cell_type": "code",
   "execution_count": 58,
   "metadata": {
    "collapsed": false
   },
   "outputs": [
    {
     "name": "stdout",
     "output_type": "stream",
     "text": [
      "Please, enter your name.Isaac\n",
      "The mustang you purchased is red\n",
      "The mustang you purchased has a V8\n"
     ]
    }
   ],
   "source": [
    "\"\"\"The use of the return statement\"\"\"\n",
    "\n",
    "def name_capture():\n",
    "    name = raw_input(\"Please, enter your name.\")\n",
    "    #print(name)\n",
    "    return(name + ' Rael')\n",
    "name_capture()\n",
    "\n",
    "\n",
    "class Car(object):\n",
    "    def __init__(self):\n",
    "        self.engine1 = \"V8\"\n",
    "        self.color1 = \"red\"\n",
    "            \n",
    "    def print_a(self):\n",
    "        print(\"The mustang you purchased is \" '{}'.format(mustang.color1))\n",
    "        print(\"The mustang you purchased has a \" '{}'.format(mustang.engine1))\n",
    "\n",
    "\n",
    "\n",
    "# Instantiate Create The Class        \n",
    "mustang = Car()\n",
    "\n",
    "# Call the print function within the class Car\n",
    "mustang.print_a()\n",
    "\n",
    "\n",
    "        \n",
    "if __name__==\"__main__\":\n",
    "    Car()\n",
    "        \n",
    "\n",
    "\n"
   ]
  },
  {
   "cell_type": "code",
   "execution_count": null,
   "metadata": {
    "collapsed": false
   },
   "outputs": [],
   "source": []
  }
 ],
 "metadata": {
  "kernelspec": {
   "display_name": "Python 2",
   "language": "python",
   "name": "python2"
  },
  "language_info": {
   "codemirror_mode": {
    "name": "ipython",
    "version": 2
   },
   "file_extension": ".py",
   "mimetype": "text/x-python",
   "name": "python",
   "nbconvert_exporter": "python",
   "pygments_lexer": "ipython2",
   "version": "2.7.5"
  }
 },
 "nbformat": 4,
 "nbformat_minor": 2
}
