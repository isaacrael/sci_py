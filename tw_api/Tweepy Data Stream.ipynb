{
 "cells": [
  {
   "cell_type": "markdown",
   "metadata": {
    "deletable": true,
    "editable": true
   },
   "source": [
    "# Tweepy Data Stream Demo"
   ]
  },
  {
   "cell_type": "markdown",
   "metadata": {
    "deletable": true,
    "editable": true
   },
   "source": [
    "[T Read The Docs](http://tweepy.readthedocs.io/en/v3.5.0/)"
   ]
  },
  {
   "cell_type": "markdown",
   "metadata": {
    "deletable": true,
    "editable": true
   },
   "source": [
    "[My Account](https://twitter.com/isaacrael)"
   ]
  },
  {
   "cell_type": "markdown",
   "metadata": {
    "deletable": true,
    "editable": true
   },
   "source": [
    "[Python Engineering @ Microsoft](https://blogs.msdn.microsoft.com/pythonengineering/2017/03/07/python-support-in-vs2017/)"
   ]
  },
  {
   "cell_type": "markdown",
   "metadata": {
    "deletable": true,
    "editable": true
   },
   "source": [
    "[Finding Free Food With Python](http://jamesbvaughan.com/python-twilio-scraping/)"
   ]
  },
  {
   "cell_type": "markdown",
   "metadata": {
    "deletable": true,
    "editable": true
   },
   "source": [
    "[Programming Your NAO Robot With Python](http://robohub.org/python-programming-your-nao-robot/)"
   ]
  },
  {
   "cell_type": "markdown",
   "metadata": {
    "deletable": true,
    "editable": true
   },
   "source": [
    "[Python Top 10 Articles](https://medium.mybridge.co/python-top-10-articles-in-september-859bc1070622#.595m9zpa3)"
   ]
  },
  {
   "cell_type": "markdown",
   "metadata": {
    "deletable": true,
    "editable": true
   },
   "source": [
    "[Sentiment Analysis Version1](https://www.youtube.com/watch?v=l9AC98amjSA)"
   ]
  },
  {
   "cell_type": "markdown",
   "metadata": {
    "deletable": true,
    "editable": true
   },
   "source": [
    "[Sentiment Analysis Articles](https://www.quora.com/What-is-the-best-way-to-do-Sentiment-Analysis-with-Python-1)"
   ]
  },
  {
   "cell_type": "code",
   "execution_count": 14,
   "metadata": {
    "collapsed": false,
    "deletable": true,
    "editable": true
   },
   "outputs": [],
   "source": [
    "import tweepy\n",
    "import json\n",
    "import time\n",
    "import sys\n",
    "\n",
    "\n",
    "# Calling help on various twitter.api modules\n",
    "# help(tweepy.auth)\n",
    "#help(tweepy.api)\n",
    "#help(tweepy.Stream)\n",
    "\n",
    "\n",
    "# Keys needed for authentication purposes\n",
    "consumer_key = \"JRSzaMcADzpjqWiu8mviGeJWx\"\n",
    "consumer_secret = \"T0gDLHl7o9FYx0VJ18h6oiR68kPwi7qIcLoeHGQEWBMmj7k2vj\"\n",
    "access_token = \"100592963-hFkQOpwfnhksoV8kywWOQqTDeKrE863qrtgmCNKn\"\n",
    "access_token_secret = \"hP7GsXMDMxm2o7Wx3hLokaL75XzzwBiXPYXpU4YbsYpOz\"\n",
    "\n",
    "# Authentication is done below\n",
    "\n",
    "auth = tweepy.OAuthHandler(consumer_key, consumer_secret)\n",
    "auth.set_access_token(access_token, access_token_secret)\n",
    "\n",
    "api = tweepy.API(auth)"
   ]
  },
  {
   "cell_type": "code",
   "execution_count": 15,
   "metadata": {
    "collapsed": true,
    "deletable": true,
    "editable": true
   },
   "outputs": [],
   "source": [
    "#users = api.lookup_users(screen_names='isaacrael')\n",
    "#print(users)"
   ]
  },
  {
   "cell_type": "code",
   "execution_count": 16,
   "metadata": {
    "collapsed": true,
    "deletable": true,
    "editable": true
   },
   "outputs": [],
   "source": [
    "# initialize counter to 0\n",
    "count = 0"
   ]
  },
  {
   "cell_type": "code",
   "execution_count": 17,
   "metadata": {
    "collapsed": false,
    "deletable": true,
    "editable": true
   },
   "outputs": [],
   "source": [
    "#override tweepy.StreamListener to add logic to on_status\n",
    "class MyStreamListener(tweepy.StreamListener):\n",
    "\n",
    "    def on_status(self, status):\n",
    "        type(status.text)\n",
    "        print(status.text)\n",
    "        #f = open('tweets.txt','a')\n",
    "        #f.write(str(status.text))\n",
    "        #f.write(\"\\n\")\n",
    "        #f.close()\n",
    "        #print(status._json)\n",
    "        # counts the tweets and exits when tweets are greater than 10\n",
    "        global count\n",
    "        count = count + 1\n",
    "        if count > 100:\n",
    "            return False\n",
    "        else:\n",
    "            return True"
   ]
  },
  {
   "cell_type": "code",
   "execution_count": 18,
   "metadata": {
    "collapsed": false,
    "deletable": true,
    "editable": true
   },
   "outputs": [],
   "source": [
    "# pass in count which is set to 0 initially to count the number of tweets\n",
    "myStreamListener = MyStreamListener(count)\n",
    "myStream = tweepy.Stream(auth = api.auth, listener=myStreamListener)"
   ]
  },
  {
   "cell_type": "code",
   "execution_count": 19,
   "metadata": {
    "collapsed": false,
    "deletable": true,
    "editable": true,
    "scrolled": true
   },
   "outputs": [
    {
     "name": "stderr",
     "output_type": "stream",
     "text": [
      "/home/isaac/.virtualenvs/sci_py/local/lib/python2.7/site-packages/requests/packages/urllib3/util/ssl_.py:132: InsecurePlatformWarning: A true SSLContext object is not available. This prevents urllib3 from configuring SSL appropriately and may cause certain SSL connections to fail. You can upgrade to a newer version of Python to solve this. For more information, see https://urllib3.readthedocs.io/en/latest/advanced-usage.html#ssl-warnings\n",
      "  InsecurePlatformWarning\n"
     ]
    },
    {
     "name": "stdout",
     "output_type": "stream",
     "text": [
      "Ocio nivel: Tomando un curso en línea de cómo programar en Python para procesamiento de imágenes…el curso está en árabe y sin subtítulos.\n",
      "RT @ActiveState: Learn more about test-driven development. View recording &amp; slides of latest @ActiveState webinar… \n",
      "Tweets and python BFF &lt;3 9798891.030770017\n",
      "Technical Lead Python Jobs #jobs #jobsearch https://t.co/1En7JWmGq7\n",
      "RT @gp_pulipaka: New #Python compiler to program neuromorphic chips. #BigData #DeepLearning #MachineLearning #DataScience #AI… \n",
      "RT @ActiveState: Learn more about test-driven development. View recording &amp; slides of latest @ActiveState webinar… \n",
      "RT @doniitoo: Ocio nivel: Tomando un curso en línea de cómo programar en Python para procesamiento de imágenes…el curso está en árabe y sin…\n",
      "John Reagan: John Reagan: John Reagan: John Reagan: python Jobs: #ITjobs #tech Biggest names are on ☆★☆...... https://t.co/YvJ0AXnyFn\n",
      "Checking whether a variable is an integer or not #python https://t.co/6uUYJ1lRZL\n",
      "RT @newsycombinator: How to recover lost Python source code if it's still resident in-memory https://t.co/LI3O1ZTGQd\n",
      "SCIENCE https://t.co/U9accHeFPH\n",
      "[はてなブックマーク - 人気エントリー] タイム管理アプリTogglの蓄積データをAPI取得し、Pythonで分析する話 - toricago https://t.co/0MFyxo4hki\n",
      "Tweets and python BFF &lt;3 2555484.582685862\n",
      "Want to work at Envision? We're #hiring in MO! Click for details: https://t.co/iuSMypbtOc #Python #Relocate #NYC… https://t.co/47edXMrwRt\n",
      "@cathodion Python 3.3 has implicit namespace package thanks to PEP 0420\n",
      "https://t.co/C5CCtw2jt4\n",
      "RT @simonw: Accidentally deleted my Python source code but it was still resident in a running process - here's how I got it back https://t.…\n",
      "タイム管理アプリTogglの蓄積データをAPI取得し、Pythonで分析する話 - toricago: はてなブックマーク - 人気エントリー https://t.co/bdF3m7zQvS\n",
      "RT @kdnuggets: Introduction to Naive Bayes Classification Algorithm in #Python and #rstats https://t.co/1ApwQjYblY https://t.co/Yhhq5ig72P\n",
      "RT @akabuchiyk: 今年のゼミに間に合いそうだなあ。今から楽しみ。\n",
      "\n",
      "心理学実験プログラミング: ―Python/PsychoPyによる実験作成・データ処理― 朝倉書店 https://t.co/PnsEk9j7rq @amazonJPより\n",
      "zhengqmark just open sourced a repository: https://t.co/BtYdsPC9Rh #Python\n",
      "RT @kdnuggets: K-Means &amp; Other Clustering Algorithms: A Quick Intro with #Python https://t.co/Q4HfrnuSm3 https://t.co/SHUFvACZB6\n",
      "RT @Hadou_DX: しかし、現実は厳しく片田舎のプログラマにはPythonでウェブアプリケーション開発なんていうオサレな仕事はやってこない。来る日も来る日も20，30年前のＣ言語とＶＢ６で書かれたコードとダークソウルみたいな格闘し続けるのだ。\n",
      "RT @hatebu: タイム管理アプリTogglの蓄積データをAPI取得し、Pythonで分析する話 - toric... (59 users) https://t.co/YS883Rjk3j 4件のコメント… \n",
      "はてなブックマーク - 人気エントリー タイム管理アプリTogglの蓄積データをAPI取得し、Pythonで分析する話 - toricago https://t.co/UqPJQ83PpK\n",
      "タイム管理アプリTogglの蓄積データをAPI取得し、Pythonで分析する話 - toricago https://t.co/FPJ6f25nJt\n",
      "タイム管理アプリTogglの蓄積データをAPI取得し、Pythonで分析する話 - toricago https://t.co/lvMfrlK2zV\n",
      "[B!] タイム管理アプリTogglの蓄積データをAPI取得し、Pythonで分析する話 - toricago https://t.co/8BlvR68Ypt\n",
      "タイム管理アプリTogglの蓄積データをAPI取得し、Pythonで分析する話 - toricago https://t.co/NLMl6PYCF5\n",
      "タイム管理アプリTogglの蓄積データをAPI取得し、Pythonで分析する話 - toricago https://t.co/woyxVXunr8\n",
      "[htb_top] タイム管理アプリTogglの蓄積データをAPI取得し、Pythonで分析する話 - toricago https://t.co/9OydEq0qUP\n",
      "タイム管理アプリTogglの蓄積データをAPI取得し、Pythonで分析する話 - toricago https://t.co/qKFhfXRLPm https://t.co/e2gDMgUYnw\n",
      "タイム管理アプリTogglの蓄積データをAPI取得し、Pythonで分析する話 - toricago https://t.co/M9U6Qga7bP https://t.co/GUg6NDiat7\n",
      "RT @sylvainreynard: I am in desperate need of Monty Python episodes.\n",
      "Vasudev Ram: Find the number of bits needed to store an integer, and its binary representation (Python) By Vasudev… https://t.co/GYr19SDaNB\n",
      "タイム管理アプリTogglの蓄積データをAPI取得し、Pythonで分析する話 - toricago https://t.co/bY0YUssXaQ\n",
      "We need to track the giant pig through the giant python.\n",
      "How to recover lost Python source code if it's still resident in-memory https://t.co/TYQjvIZLcn (https://t.co/uhb5FJJtFX)\n",
      "Python debugging tips #python #debugging https://t.co/eiZhJCewpQ\n",
      "RT @PythonHub: Pycharm questions. https://t.co/wxxQ49QccO\n",
      "Guido van Rossum on Talk Python to Me https://t.co/OgBhwZKRVs\n",
      "タイム管理アプリTogglの蓄積データをAPI取得し、Pythonで分析する話 - toricago https://t.co/YsEi2CLl5Y\n",
      "#FreeKindleBook [Computers &amp; Technology][Free] Python: 2 Books in 1: Beginner's Guide + Tips and Tricks to ... - https://t.co/PJj0kXqqZs\n",
      "It's a new kicks kinda day... My 7th pair of Tieks.. loving the lavender python print 😀… https://t.co/ZOfIjs1z2j\n",
      "タイム管理アプリTogglの蓄積データをAPI取得し、Pythonで分析する話 - toricago https://t.co/w5v0Nt7U7a\n",
      "タイム管理アプリTogglの蓄積データをAPI取得し、Pythonで分析する話 - toricago https://t.co/VK6uCL0vRO\n",
      "@python 神撫手 | @tos お母さんごめんなさい、お婆ちゃんごめんなさい、先生ごめんなさい……僕を死刑にしてください！――AOK\n",
      "Tweets and python BFF &lt;3 9799197.671439756\n",
      "Tweets and python BFF &lt;3 2555750.153512394\n",
      "recover lost Python source code if it's still resident in-memory\n",
      "\n",
      "https://t.co/AzdX5T3yrX\n",
      "Q-Sensei - Python Software Engineer - San Francisco  #computers #Sensei #SanFrancisco\n",
      "https://t.co/m8Cx2XyfMI\n",
      "タイム管理アプリTogglの蓄積データをAPI取得し、Pythonで分析する話 https://t.co/cSfouLs2wF https://t.co/nbMdZVPwmX\n",
      "Vasudev Ram: Find the number of bits needed to store an integer, and its binary representation (Python) https://t.co/OFhIaCsWIV\n",
      "Hacker News - Guido van Rossum on Talk Python to Me https://t.co/OBG1SQeFaN\n",
      "RT @jms_dot_py: Dark Web OSINT With Python and OnionScan: Part One | Automating OSINT Blog https://t.co/cu2RjkJv9u\n",
      "Come for Python, stay for Shakespeare https://t.co/cgJNvmJRiw\n",
      "忘れがちな＆間違えがちなPythonデフォルト機能メモ - MyEnigma https://t.co/wYAP5u5Ta4\n",
      "This could be handy for #dfir https://t.co/LKm4PrWgMV\n",
      "RT @xeni: Weekend Deal: Machine Learning with Python Course &amp; E-Book Bundle, now just $49. https://t.co/H7i7Oyqknl https://t.co/1nLkKQNHR7\n",
      "Data Exploration with #Python: Preparing Your Data to be Explored https://t.co/jFrxEE4WAq #DataScience #Analytics #MachineLearning\n",
      "error: Unable to find vcvarsall.bat #python #windows #pip #setuppy https://t.co/d2yc0IwV7I\n",
      "RT @dbader_org: How Can You Gain More Python Experience If No Other Senior Dev Is Around? https://t.co/uXFW5QSi10\n",
      "NEW Invicta Mens Stainless Steel Carbon Fiber Dial Day/Date Python Watch  CON #FERISACORP … https://t.co/s5vgiCJY7h https://t.co/V8ZvSFIBR4\n",
      "Arduino Demonstrates IoT Boards..  #javascript #Python https://t.co/C5aVDq9fnS\n",
      "Resources for learning use of mypy? https://t.co/eirHIfbUh6 #Python \n",
      "\n",
      "I'm trying to wrap my head around mypy and it seems super easy excep…\n",
      "Tweets and python BFF &lt;3 2555886.759786893\n",
      "Vasudev Ram: Find the number of bits needed to store an integer, and its binary representation (Python) https://t.co/GAIdXLfpRZ\n",
      "タイム管理アプリTogglの蓄積データをAPI取得し、Pythonで分析する話 - toricago (50 users) https://t.co/K0BZTcVutq : https://t.co/aumU7dzli9\n",
      "52 – How to recover lost Python source code if it's still resident in-memory https://t.co/k35LYXN7Pp\n",
      "RT @gp_pulipaka: New #Python compiler to program neuromorphic chips. #BigData #DeepLearning #MachineLearning #DataScience #AI… \n",
      "タイム管理アプリTogglの蓄積データをAPI取得し、Pythonで分析する話 - toricago https://t.co/VA1hruuELD\n",
      "#python color not filling in properly\n",
      "#Tech #News #HowTo\n",
      "https://t.co/aPa2VP4ACm\n",
      "#monty python porn fullly clothed sex https://t.co/I82nS81C6E\n",
      "RT @jms_dot_py: Dark Web OSINT With Python and OnionScan: Part One | Automating OSINT Blog https://t.co/cu2RjkJv9u\n",
      "RT @GhouroubChames: This Dog Was About To Fall Victim To A Python, But Something Unexpected Happened\n",
      " https://t.co/oZvbz0btyv https://t.co/…\n",
      "タイム管理アプリTogglの蓄積データをAPI取得し、Pythonで分析する話 - toricago https://t.co/3rNYZAXrmw #43news\n",
      "RT @citizenscilab: Students used their #knowledge of the Python language to compete for prizes at day 5 of the ICE-T Project! #STEM… \n",
      "👏 https://t.co/6DgvEg2Bpb\n",
      "Need project ideas. : Python https://t.co/EiFq6GV7uA via @PythonHub\n",
      "Sorting dictionary keys in python #python #sorting https://t.co/XBlnjAEaRn\n",
      "3 degrees and a brain stuffed with knowledge of Python, Java and C# to start, and then there's someone who gets pai… https://t.co/fbzMBOcBOP\n",
      "Senior Php Javascript Or Python Developer 1990 Jobs #jobs #jobsearch https://t.co/A6IJhCYxLE\n",
      "Ruby On Rails Python Fullstack Software Engineer Jobs #jobs #jobsearch https://t.co/Lnl6WOWY58\n",
      "RT @ina111: istellartech/OpenGoddard: Trajectory Optimization for Python https://t.co/BgTMILfpBG\n",
      "Tweets and python BFF &lt;3 9799505.217950812\n",
      "タイム管理アプリTogglの蓄積データをAPI取得し、Pythonで分析する話 - toricago https://t.co/mPUpWpJ09j\n",
      "일단 타이틀곡이랑 (energy / python는 특수문자 사용안된다고해서 어떻게 써야할지몰라서 일단 못넣었어요ㅠ) Liquor추천곡으로 넣었는데 더 넣고싶은거있으면 말해주시거나 추가해주세요 !\n",
      "RT @LibyaLiberty: I can't handle this right now. https://t.co/Sk8mUlkAcP\n",
      "RT @acarboni: WE DID IT. SCREW THE NAYSAYERS AND NONBELIEVERS. HUMANS RULE https://t.co/59uO5tYbtG\n",
      "Your WCW is at the Westin in Boston with @FYPme asking about the origins of Daddy Python.\n",
      "“[python] Selenium을 활용한 크롤러 제작 후기” by peter_yun https://t.co/sJam94N5g7\n",
      "RT @Whitepot: i want 2 lern python pls https://t.co/gx9RT4Zsgv\n",
      "RT @ina111: OpenGoddard使い方２-非線形最適制御・軌道生成のためのpythonライブラリ on @Qiita https://t.co/Ty9KSo41Am\n",
      "RT @ina111: OpenGoddard使い方１-非線形最適制御・軌道生成のためのpythonライブラリ https://t.co/7e9h1pu5vj　図を少し見やすくした。\n",
      "RT @BasedLaRock: Your WCW is at the Westin in Boston with @FYPme asking about the origins of Daddy Python.\n",
      "this ain't a dick it's a muhfuckin python\n",
      "RT @Le_Famm: this ain't a dick it's a muhfuckin python\n",
      "@TrustedSec Template rendering might help readability of string substitution. Jinja2 is pure Python &amp; would make code look less like Perl :P\n",
      "Tweets and python BFF &lt;3 2556149.854854286\n",
      "RT @HubBucket: 12 Python Resources for #DataScience - @analyticbridge -  https://t.co/aD51ItZAiG https://t.co/hxA25Ooq8d\n",
      "#Python —https://t.co/gfrly75n7g: The Convolution Theorem and Application Examples : https://t.co/UYEcjNSbsf\n",
      "#Python —PyBites: Twitter digest 2017 week 10 : https://t.co/5JstYHBqOK\n"
     ]
    }
   ],
   "source": [
    "myStream.filter(track=['Python'])"
   ]
  },
  {
   "cell_type": "code",
   "execution_count": 20,
   "metadata": {
    "collapsed": false,
    "deletable": true,
    "editable": true
   },
   "outputs": [],
   "source": [
    "#f = open('tweets.json','r+')\n",
    "#tweets = json.load(f)\n",
    "#print json.dumps(tweets, indent=2)\n",
    "#f.close()"
   ]
  },
  {
   "cell_type": "code",
   "execution_count": null,
   "metadata": {
    "collapsed": true
   },
   "outputs": [],
   "source": []
  }
 ],
 "metadata": {
  "kernelspec": {
   "display_name": "Python 2",
   "language": "python",
   "name": "python2"
  },
  "language_info": {
   "codemirror_mode": {
    "name": "ipython",
    "version": 2
   },
   "file_extension": ".py",
   "mimetype": "text/x-python",
   "name": "python",
   "nbconvert_exporter": "python",
   "pygments_lexer": "ipython2",
   "version": "2.7.6"
  }
 },
 "nbformat": 4,
 "nbformat_minor": 2
}
